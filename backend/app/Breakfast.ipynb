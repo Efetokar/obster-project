{
 "cells": [
  {
   "cell_type": "code",
   "execution_count": 1,
   "id": "1e69f5da",
   "metadata": {},
   "outputs": [
    {
     "name": "stdout",
     "output_type": "stream",
     "text": [
      "Model Accuracy: 0.0550\n",
      "Model has been saved as 'breakfast_model.pkl'\n"
     ]
    }
   ],
   "source": [
    "import pandas as pd\n",
    "import numpy as np\n",
    "from sklearn.ensemble import RandomForestClassifier\n",
    "from sklearn.model_selection import train_test_split\n",
    "from sklearn.metrics import accuracy_score\n",
    "from sklearn.preprocessing import LabelEncoder\n",
    "import pickle\n",
    "\n",
    "# Load and preprocess data\n",
    "lbe = LabelEncoder()\n",
    "obes = pd.read_csv(\"ObesData.csv\")\n",
    "df = obes.copy()\n",
    "\n",
    "# Encoding categorical variables\n",
    "categorical = pd.get_dummies(df[\"Gender\"], dtype=int)\n",
    "df.drop(\"Gender\", axis=1, inplace=True)\n",
    "df[\"gender\"] = categorical[\"Male\"]\n",
    "\n",
    "categorical2 = pd.get_dummies(df[\"ObesityCategory\"], dtype=int)\n",
    "df[['Normalweight', 'Obese', 'Overweight', 'Underweight']] = categorical2\n",
    "df = df.drop('ObesityCategory', axis=1)\n",
    "\n",
    "categorical3 = pd.get_dummies(df['Diet Type'], dtype=int)\n",
    "df[['Gluten Free', 'Standard', 'Vegan', 'Vegetarian']] = categorical3\n",
    "df = df.drop('Diet Type', axis=1)\n",
    "\n",
    "# Define features and target\n",
    "x = df[[\"Age\", \"Height\", \"Weight\", \"BMI\", \"PhysicalActivityLevel\", \"Assigned_Breakfast_Calories\", \"Waist\", \"Diabetes\", \"Hypertension\", \n",
    "        \"Normalweight\", \"Obese\", \"Overweight\", \"Underweight\", \"Gluten Free\", \"Standard\", \"Vegan\", \"Vegetarian\", \"gender\"]]\n",
    "y = df[\"Assigned_Breakfast\"]\n",
    "\n",
    "# Split data into training and testing sets\n",
    "x_train, x_test, y_train, y_test = train_test_split(x, y, test_size=0.2, random_state=42)\n",
    "\n",
    "# Initialize and train the RandomForestClassifier with corrected parameters\n",
    "rf = RandomForestClassifier(random_state=45, max_depth=10, max_features='sqrt', min_samples_leaf=2, min_samples_split=10, n_estimators=200)\n",
    "model = rf.fit(x_train, y_train)\n",
    "\n",
    "# Predict on test data and evaluate model\n",
    "y_pred = model.predict(x_test)\n",
    "accuracy = model.score(x_test, y_test)\n",
    "print(f\"Model Accuracy: {accuracy:.4f}\")\n",
    "\n",
    "# Save the trained model as a pickle file\n",
    "with open('breakfast_model.pkl', 'wb') as file:\n",
    "    pickle.dump(model, file)\n",
    "\n",
    "print(\"Model has been saved as 'breakfast_model.pkl'\")\n"
   ]
  }
 ],
 "metadata": {
  "kernelspec": {
   "display_name": "Python 3 (ipykernel)",
   "language": "python",
   "name": "python3"
  },
  "language_info": {
   "codemirror_mode": {
    "name": "ipython",
    "version": 3
   },
   "file_extension": ".py",
   "mimetype": "text/x-python",
   "name": "python",
   "nbconvert_exporter": "python",
   "pygments_lexer": "ipython3",
   "version": "3.12.4"
  }
 },
 "nbformat": 4,
 "nbformat_minor": 5
}
